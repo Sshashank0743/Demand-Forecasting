{
  "nbformat": 4,
  "nbformat_minor": 0,
  "metadata": {
    "colab": {
      "name": "Demand Forecasting.ipynb",
      "provenance": [],
      "collapsed_sections": [],
      "include_colab_link": true
    },
    "kernelspec": {
      "name": "python3",
      "display_name": "Python 3"
    },
    "accelerator": "GPU"
  },
  "cells": [
    {
      "cell_type": "markdown",
      "metadata": {
        "id": "view-in-github",
        "colab_type": "text"
      },
      "source": [
        "<a href=\"https://colab.research.google.com/github/varalakshmiarcot/Demand-Forecasting/blob/master/Demand_Forecasting.ipynb\" target=\"_parent\"><img src=\"https://colab.research.google.com/assets/colab-badge.svg\" alt=\"Open In Colab\"/></a>"
      ]
    },
    {
      "cell_type": "code",
      "metadata": {
        "id": "Zg31krl8ke0R",
        "colab_type": "code",
        "colab": {}
      },
      "source": [
        "#Importing libraries\n",
        "import pandas as pd\n",
        "import numpy as np\n"
      ],
      "execution_count": 3,
      "outputs": []
    },
    {
      "cell_type": "markdown",
      "metadata": {
        "id": "r7HDY36al45P",
        "colab_type": "text"
      },
      "source": [
        "### Importing dataset"
      ]
    },
    {
      "cell_type": "code",
      "metadata": {
        "id": "aQLLvWtfkqqH",
        "colab_type": "code",
        "colab": {}
      },
      "source": [
        "train = pd.read_csv('https://raw.githubusercontent.com/varalakshmiarcot/Demand-Forecasting/master/train_data.csv')\n",
        "test = pd.read_csv('https://raw.githubusercontent.com/varalakshmiarcot/Demand-Forecasting/master/test_data.csv')"
      ],
      "execution_count": 4,
      "outputs": []
    },
    {
      "cell_type": "code",
      "metadata": {
        "id": "OB0T5sSNw2BS",
        "colab_type": "code",
        "colab": {
          "base_uri": "https://localhost:8080/",
          "height": 196
        },
        "outputId": "a221f743-6a53-440c-9573-9e48a7ad66f6"
      },
      "source": [
        "train.head()"
      ],
      "execution_count": 64,
      "outputs": [
        {
          "output_type": "execute_result",
          "data": {
            "text/html": [
              "<div>\n",
              "<style scoped>\n",
              "    .dataframe tbody tr th:only-of-type {\n",
              "        vertical-align: middle;\n",
              "    }\n",
              "\n",
              "    .dataframe tbody tr th {\n",
              "        vertical-align: top;\n",
              "    }\n",
              "\n",
              "    .dataframe thead th {\n",
              "        text-align: right;\n",
              "    }\n",
              "</style>\n",
              "<table border=\"1\" class=\"dataframe\">\n",
              "  <thead>\n",
              "    <tr style=\"text-align: right;\">\n",
              "      <th></th>\n",
              "      <th>record_ID</th>\n",
              "      <th>week</th>\n",
              "      <th>store_id</th>\n",
              "      <th>sku_id</th>\n",
              "      <th>total_price</th>\n",
              "      <th>base_price</th>\n",
              "      <th>is_featured_sku</th>\n",
              "      <th>is_display_sku</th>\n",
              "      <th>units_sold</th>\n",
              "    </tr>\n",
              "  </thead>\n",
              "  <tbody>\n",
              "    <tr>\n",
              "      <th>0</th>\n",
              "      <td>1</td>\n",
              "      <td>17/01/11</td>\n",
              "      <td>8091</td>\n",
              "      <td>216418</td>\n",
              "      <td>99.0375</td>\n",
              "      <td>111.8625</td>\n",
              "      <td>0</td>\n",
              "      <td>0</td>\n",
              "      <td>20</td>\n",
              "    </tr>\n",
              "    <tr>\n",
              "      <th>1</th>\n",
              "      <td>2</td>\n",
              "      <td>17/01/11</td>\n",
              "      <td>8091</td>\n",
              "      <td>216419</td>\n",
              "      <td>99.0375</td>\n",
              "      <td>99.0375</td>\n",
              "      <td>0</td>\n",
              "      <td>0</td>\n",
              "      <td>28</td>\n",
              "    </tr>\n",
              "    <tr>\n",
              "      <th>2</th>\n",
              "      <td>3</td>\n",
              "      <td>17/01/11</td>\n",
              "      <td>8091</td>\n",
              "      <td>216425</td>\n",
              "      <td>133.9500</td>\n",
              "      <td>133.9500</td>\n",
              "      <td>0</td>\n",
              "      <td>0</td>\n",
              "      <td>19</td>\n",
              "    </tr>\n",
              "    <tr>\n",
              "      <th>3</th>\n",
              "      <td>4</td>\n",
              "      <td>17/01/11</td>\n",
              "      <td>8091</td>\n",
              "      <td>216233</td>\n",
              "      <td>133.9500</td>\n",
              "      <td>133.9500</td>\n",
              "      <td>0</td>\n",
              "      <td>0</td>\n",
              "      <td>44</td>\n",
              "    </tr>\n",
              "    <tr>\n",
              "      <th>4</th>\n",
              "      <td>5</td>\n",
              "      <td>17/01/11</td>\n",
              "      <td>8091</td>\n",
              "      <td>217390</td>\n",
              "      <td>141.0750</td>\n",
              "      <td>141.0750</td>\n",
              "      <td>0</td>\n",
              "      <td>0</td>\n",
              "      <td>52</td>\n",
              "    </tr>\n",
              "  </tbody>\n",
              "</table>\n",
              "</div>"
            ],
            "text/plain": [
              "   record_ID      week  store_id  ...  is_featured_sku  is_display_sku  units_sold\n",
              "0          1  17/01/11      8091  ...                0               0          20\n",
              "1          2  17/01/11      8091  ...                0               0          28\n",
              "2          3  17/01/11      8091  ...                0               0          19\n",
              "3          4  17/01/11      8091  ...                0               0          44\n",
              "4          5  17/01/11      8091  ...                0               0          52\n",
              "\n",
              "[5 rows x 9 columns]"
            ]
          },
          "metadata": {
            "tags": []
          },
          "execution_count": 64
        }
      ]
    },
    {
      "cell_type": "code",
      "metadata": {
        "id": "FngRfg19xeNV",
        "colab_type": "code",
        "colab": {
          "base_uri": "https://localhost:8080/",
          "height": 196
        },
        "outputId": "192761e1-1321-45a0-8ea5-a3359d86b243"
      },
      "source": [
        "test.head()"
      ],
      "execution_count": 65,
      "outputs": [
        {
          "output_type": "execute_result",
          "data": {
            "text/html": [
              "<div>\n",
              "<style scoped>\n",
              "    .dataframe tbody tr th:only-of-type {\n",
              "        vertical-align: middle;\n",
              "    }\n",
              "\n",
              "    .dataframe tbody tr th {\n",
              "        vertical-align: top;\n",
              "    }\n",
              "\n",
              "    .dataframe thead th {\n",
              "        text-align: right;\n",
              "    }\n",
              "</style>\n",
              "<table border=\"1\" class=\"dataframe\">\n",
              "  <thead>\n",
              "    <tr style=\"text-align: right;\">\n",
              "      <th></th>\n",
              "      <th>record_ID</th>\n",
              "      <th>week</th>\n",
              "      <th>store_id</th>\n",
              "      <th>sku_id</th>\n",
              "      <th>total_price</th>\n",
              "      <th>base_price</th>\n",
              "      <th>is_featured_sku</th>\n",
              "      <th>is_display_sku</th>\n",
              "    </tr>\n",
              "  </thead>\n",
              "  <tbody>\n",
              "    <tr>\n",
              "      <th>0</th>\n",
              "      <td>212645</td>\n",
              "      <td>16/07/13</td>\n",
              "      <td>8091</td>\n",
              "      <td>216418</td>\n",
              "      <td>108.3000</td>\n",
              "      <td>108.3000</td>\n",
              "      <td>0</td>\n",
              "      <td>0</td>\n",
              "    </tr>\n",
              "    <tr>\n",
              "      <th>1</th>\n",
              "      <td>212646</td>\n",
              "      <td>16/07/13</td>\n",
              "      <td>8091</td>\n",
              "      <td>216419</td>\n",
              "      <td>109.0125</td>\n",
              "      <td>109.0125</td>\n",
              "      <td>0</td>\n",
              "      <td>0</td>\n",
              "    </tr>\n",
              "    <tr>\n",
              "      <th>2</th>\n",
              "      <td>212647</td>\n",
              "      <td>16/07/13</td>\n",
              "      <td>8091</td>\n",
              "      <td>216425</td>\n",
              "      <td>133.9500</td>\n",
              "      <td>133.9500</td>\n",
              "      <td>0</td>\n",
              "      <td>0</td>\n",
              "    </tr>\n",
              "    <tr>\n",
              "      <th>3</th>\n",
              "      <td>212648</td>\n",
              "      <td>16/07/13</td>\n",
              "      <td>8091</td>\n",
              "      <td>216233</td>\n",
              "      <td>133.9500</td>\n",
              "      <td>133.9500</td>\n",
              "      <td>0</td>\n",
              "      <td>0</td>\n",
              "    </tr>\n",
              "    <tr>\n",
              "      <th>4</th>\n",
              "      <td>212649</td>\n",
              "      <td>16/07/13</td>\n",
              "      <td>8091</td>\n",
              "      <td>217390</td>\n",
              "      <td>176.7000</td>\n",
              "      <td>176.7000</td>\n",
              "      <td>0</td>\n",
              "      <td>0</td>\n",
              "    </tr>\n",
              "  </tbody>\n",
              "</table>\n",
              "</div>"
            ],
            "text/plain": [
              "   record_ID      week  store_id  ...  base_price  is_featured_sku  is_display_sku\n",
              "0     212645  16/07/13      8091  ...    108.3000                0               0\n",
              "1     212646  16/07/13      8091  ...    109.0125                0               0\n",
              "2     212647  16/07/13      8091  ...    133.9500                0               0\n",
              "3     212648  16/07/13      8091  ...    133.9500                0               0\n",
              "4     212649  16/07/13      8091  ...    176.7000                0               0\n",
              "\n",
              "[5 rows x 8 columns]"
            ]
          },
          "metadata": {
            "tags": []
          },
          "execution_count": 65
        }
      ]
    },
    {
      "cell_type": "code",
      "metadata": {
        "id": "X8NgS6u8d_Hq",
        "colab_type": "code",
        "colab": {
          "base_uri": "https://localhost:8080/",
          "height": 184
        },
        "outputId": "73368e51-5e90-41c1-b46c-892583b39a56"
      },
      "source": [
        "#Check datatypes\n",
        "train.dtypes"
      ],
      "execution_count": 5,
      "outputs": [
        {
          "output_type": "execute_result",
          "data": {
            "text/plain": [
              "record_ID            int64\n",
              "week                object\n",
              "store_id             int64\n",
              "sku_id               int64\n",
              "total_price        float64\n",
              "base_price         float64\n",
              "is_featured_sku      int64\n",
              "is_display_sku       int64\n",
              "units_sold           int64\n",
              "dtype: object"
            ]
          },
          "metadata": {
            "tags": []
          },
          "execution_count": 5
        }
      ]
    },
    {
      "cell_type": "code",
      "metadata": {
        "id": "FQNYCJWNks11",
        "colab_type": "code",
        "colab": {}
      },
      "source": [
        "# Change week into correct format\n",
        "train['week'] = pd.to_datetime(train['week'])\n",
        "test['week'] = pd.to_datetime(test['week'])"
      ],
      "execution_count": 6,
      "outputs": []
    },
    {
      "cell_type": "code",
      "metadata": {
        "id": "n3Qp98eK2BKL",
        "colab_type": "code",
        "colab": {
          "base_uri": "https://localhost:8080/",
          "height": 184
        },
        "outputId": "f3cb4acb-8440-4a2c-ffe5-9ca4df419cef"
      },
      "source": [
        "# Check null values\n",
        "train.isnull().sum()"
      ],
      "execution_count": 68,
      "outputs": [
        {
          "output_type": "execute_result",
          "data": {
            "text/plain": [
              "record_ID          0\n",
              "week               0\n",
              "store_id           0\n",
              "sku_id             0\n",
              "total_price        1\n",
              "base_price         0\n",
              "is_featured_sku    0\n",
              "is_display_sku     0\n",
              "units_sold         0\n",
              "dtype: int64"
            ]
          },
          "metadata": {
            "tags": []
          },
          "execution_count": 68
        }
      ]
    },
    {
      "cell_type": "markdown",
      "metadata": {
        "id": "dWdV2F-fkus2",
        "colab_type": "text"
      },
      "source": [
        "### Drop null value\n"
      ]
    },
    {
      "cell_type": "code",
      "metadata": {
        "id": "GY2Ch0uVkuQv",
        "colab_type": "code",
        "colab": {}
      },
      "source": [
        "train.dropna(inplace=True)"
      ],
      "execution_count": 7,
      "outputs": []
    },
    {
      "cell_type": "markdown",
      "metadata": {
        "id": "AQq9LaHmkylD",
        "colab_type": "text"
      },
      "source": [
        "### Extracting daycount from week\n",
        "\n"
      ]
    },
    {
      "cell_type": "code",
      "metadata": {
        "id": "SGiVvAyzkzR2",
        "colab_type": "code",
        "colab": {}
      },
      "source": [
        "train[\"DayCount\"] = train[\"week\"].apply(lambda m: m.toordinal()/730000) \n",
        "test[\"DayCount\"] = test[\"week\"].apply(lambda m: m.toordinal()/730000)"
      ],
      "execution_count": 8,
      "outputs": []
    },
    {
      "cell_type": "code",
      "metadata": {
        "id": "DZIQ7Zxw4tWq",
        "colab_type": "code",
        "colab": {
          "base_uri": "https://localhost:8080/",
          "height": 196
        },
        "outputId": "6bd9ff80-d449-4cf2-9987-fb919e4ebb17"
      },
      "source": [
        "train.head()"
      ],
      "execution_count": 73,
      "outputs": [
        {
          "output_type": "execute_result",
          "data": {
            "text/html": [
              "<div>\n",
              "<style scoped>\n",
              "    .dataframe tbody tr th:only-of-type {\n",
              "        vertical-align: middle;\n",
              "    }\n",
              "\n",
              "    .dataframe tbody tr th {\n",
              "        vertical-align: top;\n",
              "    }\n",
              "\n",
              "    .dataframe thead th {\n",
              "        text-align: right;\n",
              "    }\n",
              "</style>\n",
              "<table border=\"1\" class=\"dataframe\">\n",
              "  <thead>\n",
              "    <tr style=\"text-align: right;\">\n",
              "      <th></th>\n",
              "      <th>record_ID</th>\n",
              "      <th>week</th>\n",
              "      <th>store_id</th>\n",
              "      <th>sku_id</th>\n",
              "      <th>total_price</th>\n",
              "      <th>base_price</th>\n",
              "      <th>is_featured_sku</th>\n",
              "      <th>is_display_sku</th>\n",
              "      <th>units_sold</th>\n",
              "      <th>DayCount</th>\n",
              "    </tr>\n",
              "  </thead>\n",
              "  <tbody>\n",
              "    <tr>\n",
              "      <th>0</th>\n",
              "      <td>1</td>\n",
              "      <td>2011-01-17</td>\n",
              "      <td>8091</td>\n",
              "      <td>216418</td>\n",
              "      <td>99.0375</td>\n",
              "      <td>111.8625</td>\n",
              "      <td>0</td>\n",
              "      <td>0</td>\n",
              "      <td>20</td>\n",
              "      <td>1.00569</td>\n",
              "    </tr>\n",
              "    <tr>\n",
              "      <th>1</th>\n",
              "      <td>2</td>\n",
              "      <td>2011-01-17</td>\n",
              "      <td>8091</td>\n",
              "      <td>216419</td>\n",
              "      <td>99.0375</td>\n",
              "      <td>99.0375</td>\n",
              "      <td>0</td>\n",
              "      <td>0</td>\n",
              "      <td>28</td>\n",
              "      <td>1.00569</td>\n",
              "    </tr>\n",
              "    <tr>\n",
              "      <th>2</th>\n",
              "      <td>3</td>\n",
              "      <td>2011-01-17</td>\n",
              "      <td>8091</td>\n",
              "      <td>216425</td>\n",
              "      <td>133.9500</td>\n",
              "      <td>133.9500</td>\n",
              "      <td>0</td>\n",
              "      <td>0</td>\n",
              "      <td>19</td>\n",
              "      <td>1.00569</td>\n",
              "    </tr>\n",
              "    <tr>\n",
              "      <th>3</th>\n",
              "      <td>4</td>\n",
              "      <td>2011-01-17</td>\n",
              "      <td>8091</td>\n",
              "      <td>216233</td>\n",
              "      <td>133.9500</td>\n",
              "      <td>133.9500</td>\n",
              "      <td>0</td>\n",
              "      <td>0</td>\n",
              "      <td>44</td>\n",
              "      <td>1.00569</td>\n",
              "    </tr>\n",
              "    <tr>\n",
              "      <th>4</th>\n",
              "      <td>5</td>\n",
              "      <td>2011-01-17</td>\n",
              "      <td>8091</td>\n",
              "      <td>217390</td>\n",
              "      <td>141.0750</td>\n",
              "      <td>141.0750</td>\n",
              "      <td>0</td>\n",
              "      <td>0</td>\n",
              "      <td>52</td>\n",
              "      <td>1.00569</td>\n",
              "    </tr>\n",
              "  </tbody>\n",
              "</table>\n",
              "</div>"
            ],
            "text/plain": [
              "   record_ID       week  store_id  ...  is_display_sku  units_sold  DayCount\n",
              "0          1 2011-01-17      8091  ...               0          20   1.00569\n",
              "1          2 2011-01-17      8091  ...               0          28   1.00569\n",
              "2          3 2011-01-17      8091  ...               0          19   1.00569\n",
              "3          4 2011-01-17      8091  ...               0          44   1.00569\n",
              "4          5 2011-01-17      8091  ...               0          52   1.00569\n",
              "\n",
              "[5 rows x 10 columns]"
            ]
          },
          "metadata": {
            "tags": []
          },
          "execution_count": 73
        }
      ]
    },
    {
      "cell_type": "code",
      "metadata": {
        "id": "HoX3dO_37RpQ",
        "colab_type": "code",
        "colab": {
          "base_uri": "https://localhost:8080/",
          "height": 286
        },
        "outputId": "4070a23e-c4b5-4f1a-cd37-ee8389a1f834"
      },
      "source": [
        "train.describe()"
      ],
      "execution_count": 74,
      "outputs": [
        {
          "output_type": "execute_result",
          "data": {
            "text/html": [
              "<div>\n",
              "<style scoped>\n",
              "    .dataframe tbody tr th:only-of-type {\n",
              "        vertical-align: middle;\n",
              "    }\n",
              "\n",
              "    .dataframe tbody tr th {\n",
              "        vertical-align: top;\n",
              "    }\n",
              "\n",
              "    .dataframe thead th {\n",
              "        text-align: right;\n",
              "    }\n",
              "</style>\n",
              "<table border=\"1\" class=\"dataframe\">\n",
              "  <thead>\n",
              "    <tr style=\"text-align: right;\">\n",
              "      <th></th>\n",
              "      <th>record_ID</th>\n",
              "      <th>store_id</th>\n",
              "      <th>sku_id</th>\n",
              "      <th>total_price</th>\n",
              "      <th>base_price</th>\n",
              "      <th>is_featured_sku</th>\n",
              "      <th>is_display_sku</th>\n",
              "      <th>units_sold</th>\n",
              "      <th>DayCount</th>\n",
              "    </tr>\n",
              "  </thead>\n",
              "  <tbody>\n",
              "    <tr>\n",
              "      <th>count</th>\n",
              "      <td>150149.000000</td>\n",
              "      <td>150149.000000</td>\n",
              "      <td>150149.000000</td>\n",
              "      <td>150149.000000</td>\n",
              "      <td>150149.000000</td>\n",
              "      <td>150149.000000</td>\n",
              "      <td>150149.000000</td>\n",
              "      <td>150149.000000</td>\n",
              "      <td>150149.000000</td>\n",
              "    </tr>\n",
              "    <tr>\n",
              "      <th>mean</th>\n",
              "      <td>106270.971795</td>\n",
              "      <td>9199.420935</td>\n",
              "      <td>254761.195226</td>\n",
              "      <td>206.626751</td>\n",
              "      <td>219.424262</td>\n",
              "      <td>0.095612</td>\n",
              "      <td>0.133201</td>\n",
              "      <td>51.674543</td>\n",
              "      <td>1.006317</td>\n",
              "    </tr>\n",
              "    <tr>\n",
              "      <th>std</th>\n",
              "      <td>61385.825580</td>\n",
              "      <td>615.593192</td>\n",
              "      <td>85547.587866</td>\n",
              "      <td>103.308516</td>\n",
              "      <td>110.960204</td>\n",
              "      <td>0.294059</td>\n",
              "      <td>0.339793</td>\n",
              "      <td>60.207962</td>\n",
              "      <td>0.000382</td>\n",
              "    </tr>\n",
              "    <tr>\n",
              "      <th>min</th>\n",
              "      <td>1.000000</td>\n",
              "      <td>8023.000000</td>\n",
              "      <td>216233.000000</td>\n",
              "      <td>41.325000</td>\n",
              "      <td>61.275000</td>\n",
              "      <td>0.000000</td>\n",
              "      <td>0.000000</td>\n",
              "      <td>1.000000</td>\n",
              "      <td>1.005678</td>\n",
              "    </tr>\n",
              "    <tr>\n",
              "      <th>25%</th>\n",
              "      <td>53111.000000</td>\n",
              "      <td>8562.000000</td>\n",
              "      <td>217217.000000</td>\n",
              "      <td>130.387500</td>\n",
              "      <td>133.237500</td>\n",
              "      <td>0.000000</td>\n",
              "      <td>0.000000</td>\n",
              "      <td>20.000000</td>\n",
              "      <td>1.005988</td>\n",
              "    </tr>\n",
              "    <tr>\n",
              "      <th>50%</th>\n",
              "      <td>106226.000000</td>\n",
              "      <td>9371.000000</td>\n",
              "      <td>222087.000000</td>\n",
              "      <td>198.075000</td>\n",
              "      <td>205.912500</td>\n",
              "      <td>0.000000</td>\n",
              "      <td>0.000000</td>\n",
              "      <td>35.000000</td>\n",
              "      <td>1.006304</td>\n",
              "    </tr>\n",
              "    <tr>\n",
              "      <th>75%</th>\n",
              "      <td>159452.000000</td>\n",
              "      <td>9731.000000</td>\n",
              "      <td>245338.000000</td>\n",
              "      <td>233.700000</td>\n",
              "      <td>234.412500</td>\n",
              "      <td>0.000000</td>\n",
              "      <td>0.000000</td>\n",
              "      <td>62.000000</td>\n",
              "      <td>1.006612</td>\n",
              "    </tr>\n",
              "    <tr>\n",
              "      <th>max</th>\n",
              "      <td>212644.000000</td>\n",
              "      <td>9984.000000</td>\n",
              "      <td>679023.000000</td>\n",
              "      <td>562.162500</td>\n",
              "      <td>562.162500</td>\n",
              "      <td>1.000000</td>\n",
              "      <td>1.000000</td>\n",
              "      <td>2876.000000</td>\n",
              "      <td>1.007130</td>\n",
              "    </tr>\n",
              "  </tbody>\n",
              "</table>\n",
              "</div>"
            ],
            "text/plain": [
              "           record_ID       store_id  ...     units_sold       DayCount\n",
              "count  150149.000000  150149.000000  ...  150149.000000  150149.000000\n",
              "mean   106270.971795    9199.420935  ...      51.674543       1.006317\n",
              "std     61385.825580     615.593192  ...      60.207962       0.000382\n",
              "min         1.000000    8023.000000  ...       1.000000       1.005678\n",
              "25%     53111.000000    8562.000000  ...      20.000000       1.005988\n",
              "50%    106226.000000    9371.000000  ...      35.000000       1.006304\n",
              "75%    159452.000000    9731.000000  ...      62.000000       1.006612\n",
              "max    212644.000000    9984.000000  ...    2876.000000       1.007130\n",
              "\n",
              "[8 rows x 9 columns]"
            ]
          },
          "metadata": {
            "tags": []
          },
          "execution_count": 74
        }
      ]
    },
    {
      "cell_type": "markdown",
      "metadata": {
        "id": "IEP5aZy0k5px",
        "colab_type": "text"
      },
      "source": [
        "### Outlier removal"
      ]
    },
    {
      "cell_type": "code",
      "metadata": {
        "id": "6FQYbjpsk8Fk",
        "colab_type": "code",
        "colab": {}
      },
      "source": [
        "train = train.drop(train[train['units_sold']>2500].index)"
      ],
      "execution_count": 9,
      "outputs": []
    },
    {
      "cell_type": "markdown",
      "metadata": {
        "id": "AKQo-EsHk9Y_",
        "colab_type": "text"
      },
      "source": [
        "### Feature Engineering"
      ]
    },
    {
      "cell_type": "code",
      "metadata": {
        "id": "J4w4-v3ek-46",
        "colab_type": "code",
        "colab": {}
      },
      "source": [
        "train['diff'] = (train['base_price'] - train['total_price'])/train['base_price']"
      ],
      "execution_count": 10,
      "outputs": []
    },
    {
      "cell_type": "code",
      "metadata": {
        "id": "6Dx95ydZVfNE",
        "colab_type": "code",
        "colab": {}
      },
      "source": [
        "test['diff'] = (test['base_price'] - test['total_price'])/test['base_price']"
      ],
      "execution_count": 11,
      "outputs": []
    },
    {
      "cell_type": "code",
      "metadata": {
        "id": "M4VVKoralBKG",
        "colab_type": "code",
        "colab": {}
      },
      "source": [
        "features = [ 'store_id', 'sku_id','total_price','base_price',\n",
        "       'is_featured_sku', 'is_display_sku','diff',\n",
        "       'DayCount'] "
      ],
      "execution_count": 12,
      "outputs": []
    },
    {
      "cell_type": "markdown",
      "metadata": {
        "id": "elsPdNj1lHTP",
        "colab_type": "text"
      },
      "source": [
        "### Log Conversion of baseprice and total_price due to skewness"
      ]
    },
    {
      "cell_type": "code",
      "metadata": {
        "id": "Y-v1rC9zlCb2",
        "colab_type": "code",
        "colab": {}
      },
      "source": [
        "train['total_price'] = np.log(train['total_price'])\n",
        "test['total_price'] = np.log(test['total_price'])"
      ],
      "execution_count": 13,
      "outputs": []
    },
    {
      "cell_type": "code",
      "metadata": {
        "id": "K_ybhtDR8-lm",
        "colab_type": "code",
        "colab": {
          "base_uri": "https://localhost:8080/",
          "height": 384
        },
        "outputId": "ceef9f00-3dd3-44d6-d662-0c52c3792f01"
      },
      "source": [
        "train.head()"
      ],
      "execution_count": 14,
      "outputs": [
        {
          "output_type": "execute_result",
          "data": {
            "text/html": [
              "<div>\n",
              "<style scoped>\n",
              "    .dataframe tbody tr th:only-of-type {\n",
              "        vertical-align: middle;\n",
              "    }\n",
              "\n",
              "    .dataframe tbody tr th {\n",
              "        vertical-align: top;\n",
              "    }\n",
              "\n",
              "    .dataframe thead th {\n",
              "        text-align: right;\n",
              "    }\n",
              "</style>\n",
              "<table border=\"1\" class=\"dataframe\">\n",
              "  <thead>\n",
              "    <tr style=\"text-align: right;\">\n",
              "      <th></th>\n",
              "      <th>record_ID</th>\n",
              "      <th>week</th>\n",
              "      <th>store_id</th>\n",
              "      <th>sku_id</th>\n",
              "      <th>total_price</th>\n",
              "      <th>base_price</th>\n",
              "      <th>is_featured_sku</th>\n",
              "      <th>is_display_sku</th>\n",
              "      <th>units_sold</th>\n",
              "      <th>DayCount</th>\n",
              "      <th>diff</th>\n",
              "    </tr>\n",
              "  </thead>\n",
              "  <tbody>\n",
              "    <tr>\n",
              "      <th>0</th>\n",
              "      <td>1</td>\n",
              "      <td>2011-01-17</td>\n",
              "      <td>8091</td>\n",
              "      <td>216418</td>\n",
              "      <td>4.595499</td>\n",
              "      <td>111.8625</td>\n",
              "      <td>0</td>\n",
              "      <td>0</td>\n",
              "      <td>20</td>\n",
              "      <td>1.00569</td>\n",
              "      <td>0.11465</td>\n",
              "    </tr>\n",
              "    <tr>\n",
              "      <th>1</th>\n",
              "      <td>2</td>\n",
              "      <td>2011-01-17</td>\n",
              "      <td>8091</td>\n",
              "      <td>216419</td>\n",
              "      <td>4.595499</td>\n",
              "      <td>99.0375</td>\n",
              "      <td>0</td>\n",
              "      <td>0</td>\n",
              "      <td>28</td>\n",
              "      <td>1.00569</td>\n",
              "      <td>0.00000</td>\n",
              "    </tr>\n",
              "    <tr>\n",
              "      <th>2</th>\n",
              "      <td>3</td>\n",
              "      <td>2011-01-17</td>\n",
              "      <td>8091</td>\n",
              "      <td>216425</td>\n",
              "      <td>4.897467</td>\n",
              "      <td>133.9500</td>\n",
              "      <td>0</td>\n",
              "      <td>0</td>\n",
              "      <td>19</td>\n",
              "      <td>1.00569</td>\n",
              "      <td>0.00000</td>\n",
              "    </tr>\n",
              "    <tr>\n",
              "      <th>3</th>\n",
              "      <td>4</td>\n",
              "      <td>2011-01-17</td>\n",
              "      <td>8091</td>\n",
              "      <td>216233</td>\n",
              "      <td>4.897467</td>\n",
              "      <td>133.9500</td>\n",
              "      <td>0</td>\n",
              "      <td>0</td>\n",
              "      <td>44</td>\n",
              "      <td>1.00569</td>\n",
              "      <td>0.00000</td>\n",
              "    </tr>\n",
              "    <tr>\n",
              "      <th>4</th>\n",
              "      <td>5</td>\n",
              "      <td>2011-01-17</td>\n",
              "      <td>8091</td>\n",
              "      <td>217390</td>\n",
              "      <td>4.949292</td>\n",
              "      <td>141.0750</td>\n",
              "      <td>0</td>\n",
              "      <td>0</td>\n",
              "      <td>52</td>\n",
              "      <td>1.00569</td>\n",
              "      <td>0.00000</td>\n",
              "    </tr>\n",
              "  </tbody>\n",
              "</table>\n",
              "</div>"
            ],
            "text/plain": [
              "   record_ID       week  store_id  ...  units_sold  DayCount     diff\n",
              "0          1 2011-01-17      8091  ...          20   1.00569  0.11465\n",
              "1          2 2011-01-17      8091  ...          28   1.00569  0.00000\n",
              "2          3 2011-01-17      8091  ...          19   1.00569  0.00000\n",
              "3          4 2011-01-17      8091  ...          44   1.00569  0.00000\n",
              "4          5 2011-01-17      8091  ...          52   1.00569  0.00000\n",
              "\n",
              "[5 rows x 11 columns]"
            ]
          },
          "metadata": {
            "tags": []
          },
          "execution_count": 14
        }
      ]
    },
    {
      "cell_type": "markdown",
      "metadata": {
        "id": "n7FG9DMHlM1M",
        "colab_type": "text"
      },
      "source": [
        "### Prepare dataset to train"
      ]
    },
    {
      "cell_type": "code",
      "metadata": {
        "id": "lk1wOAbhlQD2",
        "colab_type": "code",
        "colab": {}
      },
      "source": [
        "from sklearn.model_selection import train_test_split,KFold\n",
        "train.reset_index(inplace=True)\n",
        "X = train[features]\n",
        "y = train['units_sold']\n",
        "y = np.log(y)"
      ],
      "execution_count": 15,
      "outputs": []
    },
    {
      "cell_type": "markdown",
      "metadata": {
        "id": "IsmDQ4islRU0",
        "colab_type": "text"
      },
      "source": [
        "### Importing models (Xgboost and lightgbm)"
      ]
    },
    {
      "cell_type": "code",
      "metadata": {
        "id": "A5B-JaSPlSkL",
        "colab_type": "code",
        "colab": {}
      },
      "source": [
        "import lightgbm as lgb\n",
        "\n",
        "hyper_params = {\n",
        "    'boosting_type': 'gbdt',\n",
        "    'objective': 'regression',\n",
        "    'metric': ['l2', 'auc'],\n",
        "    'learning_rate': 0.14,\n",
        "    \"max_depth\": 10,\n",
        "    \"n_estimators\": 1260,\n",
        "    \"subsample\":0.8,\n",
        "    \"min_child_weight\":5,\n",
        "    \"colsample_bytree\":0.8,\n",
        "    \"eta\":0.14,\n",
        "    \"alpha\":0.05,\n",
        "    \n",
        "}\n",
        "\n",
        "gbm = lgb.LGBMRegressor(**hyper_params)"
      ],
      "execution_count": 16,
      "outputs": []
    },
    {
      "cell_type": "code",
      "metadata": {
        "id": "UepsQJuolVwL",
        "colab_type": "code",
        "colab": {}
      },
      "source": [
        "from xgboost import XGBRegressor\n",
        "xgb = XGBRegressor(\n",
        "    max_depth=8,\n",
        "    booster = \"gbtree\",\n",
        "    n_estimators=1300,\n",
        "    alpha=0.1,\n",
        "    colsample_bytree=0.8,\n",
        "    subsample=0.8,\n",
        "    eta='0.3',\n",
        "    min_child_weight=5, \n",
        "    metric=['l2','l1'],\n",
        "    seed=42,tree_method='gpu_hist', gpu_id=0,\n",
        "lambda_l2=0.01,early_stopping_rounds = 100)\n"
      ],
      "execution_count": 18,
      "outputs": []
    },
    {
      "cell_type": "markdown",
      "metadata": {
        "id": "II5wk-afq-Qn",
        "colab_type": "text"
      },
      "source": [
        "#### BaggingRegressor used to boost the score"
      ]
    },
    {
      "cell_type": "code",
      "metadata": {
        "id": "XpXdnjFSq92I",
        "colab_type": "code",
        "colab": {}
      },
      "source": [
        "from sklearn.ensemble import BaggingRegressor\n",
        "bag_xgb = BaggingRegressor(xgb, random_state=0,n_estimators=4)\n",
        "bag_gbm = BaggingRegressor(gbm, random_state=0)"
      ],
      "execution_count": 21,
      "outputs": []
    },
    {
      "cell_type": "markdown",
      "metadata": {
        "id": "7UuMUTIHl0vw",
        "colab_type": "text"
      },
      "source": [
        "### Training the data"
      ]
    },
    {
      "cell_type": "code",
      "metadata": {
        "id": "v3cVZVqkqzi5",
        "colab_type": "code",
        "colab": {
          "base_uri": "https://localhost:8080/",
          "height": 488
        },
        "outputId": "9842a8ae-8a59-407f-d77d-b7fb26dc9e28"
      },
      "source": [
        "bag_gbm.fit(X,y)\n",
        "bag_xgb.fit(X,y)"
      ],
      "execution_count": 22,
      "outputs": [
        {
          "output_type": "stream",
          "text": [
            "[19:28:52] WARNING: /workspace/src/objective/regression_obj.cu:152: reg:linear is now deprecated in favor of reg:squarederror.\n",
            "[19:29:46] WARNING: /workspace/src/objective/regression_obj.cu:152: reg:linear is now deprecated in favor of reg:squarederror.\n",
            "[19:30:40] WARNING: /workspace/src/objective/regression_obj.cu:152: reg:linear is now deprecated in favor of reg:squarederror.\n",
            "[19:31:34] WARNING: /workspace/src/objective/regression_obj.cu:152: reg:linear is now deprecated in favor of reg:squarederror.\n"
          ],
          "name": "stdout"
        },
        {
          "output_type": "execute_result",
          "data": {
            "text/plain": [
              "BaggingRegressor(base_estimator=XGBRegressor(alpha=0.1, base_score=0.5,\n",
              "                                             booster='gbtree',\n",
              "                                             colsample_bylevel=1,\n",
              "                                             colsample_bynode=1,\n",
              "                                             colsample_bytree=0.8,\n",
              "                                             early_stopping_rounds=100,\n",
              "                                             eta='0.3', gamma=0, gpu_id=0,\n",
              "                                             importance_type='gain',\n",
              "                                             lambda_l2=0.01, learning_rate=0.1,\n",
              "                                             max_delta_step=0, max_depth=8,\n",
              "                                             metric=['l2', 'l1'],\n",
              "                                             min_child_weight=5, missing=None,\n",
              "                                             n_estimators=1300, n_jobs=1,\n",
              "                                             nthread=None,\n",
              "                                             objective='reg:linear',\n",
              "                                             random_state=0, reg_alpha=0,\n",
              "                                             reg_lambda=1, scale_pos_weight=1,\n",
              "                                             seed=42, silent=None,\n",
              "                                             subsample=0.8,\n",
              "                                             tree_method='gpu_hist', ...),\n",
              "                 bootstrap=True, bootstrap_features=False, max_features=1.0,\n",
              "                 max_samples=1.0, n_estimators=4, n_jobs=None, oob_score=False,\n",
              "                 random_state=0, verbose=0, warm_start=False)"
            ]
          },
          "metadata": {
            "tags": []
          },
          "execution_count": 22
        }
      ]
    },
    {
      "cell_type": "markdown",
      "metadata": {
        "id": "StHFot6Vlya7",
        "colab_type": "text"
      },
      "source": [
        "### Submission of file (Took ceil values of each output for both xgboost and lightgbm)"
      ]
    },
    {
      "cell_type": "code",
      "metadata": {
        "id": "IFVrAt9jlm9E",
        "colab_type": "code",
        "colab": {}
      },
      "source": [
        "sample = pd.read_csv('https://raw.githubusercontent.com/varalakshmiarcot/Demand-Forecasting/master/sample_submission.csv')\n",
        "sample['units_sold'] = np.ceil((np.ceil(np.exp((bag_xgb.predict(test[features]))))+np.ceil(np.exp(bag_gbm.predict(test[features]))))/2)\n",
        "sample.loc[sample['units_sold']<0,'units_sold'] = abs(sample.loc[sample['units_sold']<0,'units_sold'])\n",
        "sample.to_csv('submit.csv',index=False)"
      ],
      "execution_count": 23,
      "outputs": []
    }
  ]
}